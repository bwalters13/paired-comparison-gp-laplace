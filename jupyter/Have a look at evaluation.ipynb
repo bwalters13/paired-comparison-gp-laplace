{
 "cells": [
  {
   "cell_type": "code",
   "execution_count": 2,
   "metadata": {},
   "outputs": [],
   "source": [
    "import pandas as pd\n",
    "from datetime import datetime"
   ]
  },
  {
   "cell_type": "code",
   "execution_count": 239,
   "metadata": {},
   "outputs": [
    {
     "data": {
      "text/plain": [
       "(2593, 17)"
      ]
     },
     "execution_count": 239,
     "metadata": {},
     "output_type": "execute_result"
    }
   ],
   "source": [
    "df = pd.read_csv('../../tennis-prediction/single_glicko_2000_start_7d_2018.csv')\n",
    "df['date'] = pd.to_datetime(df['date'])\n",
    "df = df[df['date'] < datetime(2018, 12, 31)]\n",
    "\n",
    "df.shape"
   ]
  },
  {
   "cell_type": "code",
   "execution_count": 240,
   "metadata": {},
   "outputs": [
    {
     "data": {
      "text/plain": [
       "0.6413420748168145"
      ]
     },
     "execution_count": 240,
     "metadata": {},
     "output_type": "execute_result"
    }
   ],
   "source": [
    "import numpy as np\n",
    "\n",
    "np.mean(df['winner_prob'] > 0.5)"
   ]
  },
  {
   "cell_type": "code",
   "execution_count": 241,
   "metadata": {},
   "outputs": [],
   "source": [
    "from tpr.evaluation.evaluator import Evaluator"
   ]
  },
  {
   "cell_type": "code",
   "execution_count": 242,
   "metadata": {},
   "outputs": [
    {
     "data": {
      "text/plain": [
       "0.6331258913517949"
      ]
     },
     "execution_count": 242,
     "metadata": {},
     "output_type": "execute_result"
    }
   ],
   "source": [
    "Evaluator.logloss(np.ones(df.shape[0]), df['winner_prob'].values)"
   ]
  },
  {
   "cell_type": "code",
   "execution_count": 243,
   "metadata": {},
   "outputs": [],
   "source": [
    "by_tournament = df.groupby('tournament_name').apply(lambda x: Evaluator.logloss(np.ones(x.shape[0]), x['winner_prob'])).sort_values()"
   ]
  },
  {
   "cell_type": "code",
   "execution_count": 244,
   "metadata": {},
   "outputs": [],
   "source": [
    "df_2 = pd.read_csv('../../tennis-prediction/gp_laplace_2016_start_matern12_32_2019_logit.csv')\n",
    "df_2['date'] = pd.to_datetime(df_2['date'])\n",
    "df_2 = df_2[df_2['date'].dt.year == 2018]"
   ]
  },
  {
   "cell_type": "code",
   "execution_count": 245,
   "metadata": {},
   "outputs": [],
   "source": [
    "by_tournament_2 = df_2.groupby('tournament_name').apply(lambda x: Evaluator.logloss(np.ones(x.shape[0]), x['winner_prob'])).sort_values()\n",
    "\n"
   ]
  },
  {
   "cell_type": "code",
   "execution_count": 246,
   "metadata": {},
   "outputs": [
    {
     "data": {
      "text/plain": [
       "(0.6331258913517949, 0.6319106242789164)"
      ]
     },
     "execution_count": 246,
     "metadata": {},
     "output_type": "execute_result"
    }
   ],
   "source": [
    "merged = df.merge(df_2, on=['winner', 'loser', 'date'], suffixes=['_elo', '_gp'])\n",
    "\n",
    "(Evaluator.logloss(np.ones(merged.shape[0]), merged['winner_prob_elo']), \n",
    " Evaluator.logloss(np.ones(merged.shape[0]), merged['winner_prob_gp']))"
   ]
  },
  {
   "cell_type": "code",
   "execution_count": 247,
   "metadata": {},
   "outputs": [
    {
     "data": {
      "text/plain": [
       "0.6336290011569611"
      ]
     },
     "execution_count": 247,
     "metadata": {},
     "output_type": "execute_result"
    }
   ],
   "source": [
    "np.mean(merged['winner_prob_gp'] > 0.5)"
   ]
  },
  {
   "cell_type": "code",
   "execution_count": 248,
   "metadata": {},
   "outputs": [
    {
     "data": {
      "text/plain": [
       "<matplotlib.collections.PathCollection at 0x10d9492e8>"
      ]
     },
     "execution_count": 248,
     "metadata": {},
     "output_type": "execute_result"
    },
    {
     "data": {
      "image/png": "[encoded data removed]",
      "text/plain": [
       "<Figure size 432x288 with 1 Axes>"
      ]
     },
     "metadata": {
      "image/png": {
       "height": 250,
       "width": 380
      },
      "needs_background": "light"
     },
     "output_type": "display_data"
    }
   ],
   "source": [
    "import matplotlib.pyplot as plt\n",
    "%matplotlib inline\n",
    "\n",
    "plt.scatter(by_tournament.values, by_tournament_2.loc[by_tournament.index].values)"
   ]
  },
  {
   "cell_type": "code",
   "execution_count": 237,
   "metadata": {},
   "outputs": [
    {
     "data": {
      "text/plain": [
       "surface\n",
       "hard           0.621320\n",
       "indoor_hard    0.622975\n",
       "grass          0.635883\n",
       "clay           0.649067\n",
       "dtype: float64"
      ]
     },
     "execution_count": 237,
     "metadata": {},
     "output_type": "execute_result"
    }
   ],
   "source": [
    "by_surface_2 = df_2.groupby('surface').apply(lambda x: Evaluator.logloss(np.ones(x.shape[0]), x['winner_prob'])).sort_values()\n",
    "by_surface_2\n",
    "\n"
   ]
  },
  {
   "cell_type": "code",
   "execution_count": 238,
   "metadata": {},
   "outputs": [
    {
     "data": {
      "text/plain": [
       "surface\n",
       "indoor_hard    0.620320\n",
       "hard           0.624916\n",
       "grass          0.633163\n",
       "clay           0.651991\n",
       "dtype: float64"
      ]
     },
     "execution_count": 238,
     "metadata": {},
     "output_type": "execute_result"
    }
   ],
   "source": [
    "by_surface = df.groupby('surface').apply(lambda x: Evaluator.logloss(np.ones(x.shape[0]), x['winner_prob'])).sort_values()\n",
    "by_surface\n",
    "\n"
   ]
  },
  {
   "cell_type": "code",
   "execution_count": 253,
   "metadata": {},
   "outputs": [],
   "source": [
    "# How did it go on the AO?\n",
    "df = pd.read_csv('../../tennis-prediction/gp_laplace_2016_start_matern12_32_2019_logit.csv')\n",
    "df['date'] = pd.to_datetime(df['date'])\n",
    "\n",
    "df = df[df['date'].dt.year == 2019]\n",
    "df = df[df['tournament_name'].str.contains('Australian Open')]"
   ]
  },
  {
   "cell_type": "code",
   "execution_count": 254,
   "metadata": {},
   "outputs": [
    {
     "data": {
      "text/plain": [
       "(127, 19)"
      ]
     },
     "execution_count": 254,
     "metadata": {},
     "output_type": "execute_result"
    }
   ],
   "source": [
    "df.shape"
   ]
  },
  {
   "cell_type": "code",
   "execution_count": 255,
   "metadata": {},
   "outputs": [
    {
     "data": {
      "text/plain": [
       "0.5391737411197288"
      ]
     },
     "execution_count": 255,
     "metadata": {},
     "output_type": "execute_result"
    }
   ],
   "source": [
    "Evaluator.logloss(np.ones(df.shape[0]), df['winner_prob'])"
   ]
  },
  {
   "cell_type": "code",
   "execution_count": 256,
   "metadata": {},
   "outputs": [
    {
     "data": {
      "text/plain": [
       "0.7401574803149606"
      ]
     },
     "execution_count": 256,
     "metadata": {},
     "output_type": "execute_result"
    }
   ],
   "source": [
    "np.mean(df['winner_prob'] > 0.5)"
   ]
  },
  {
   "cell_type": "code",
   "execution_count": 257,
   "metadata": {},
   "outputs": [
    {
     "data": {
      "text/plain": [
       "(0.5312720639140296, 0.7165354330708661)"
      ]
     },
     "execution_count": 257,
     "metadata": {},
     "output_type": "execute_result"
    }
   ],
   "source": [
    "# Compare with Elo\n",
    "elo_df = pd.read_csv('../../tennis-prediction/single_glicko_2000_start_7d_2018.csv')\n",
    "\n",
    "elo_df['date'] = pd.to_datetime(elo_df['date'])\n",
    "\n",
    "elo_df = elo_df[elo_df['date'].dt.year == 2019]\n",
    "elo_df = elo_df[elo_df['tournament_name'].str.contains('Australian Open')]\n",
    "\n",
    "Evaluator.logloss(np.ones(elo_df.shape[0]), elo_df['winner_prob']), np.mean(elo_df['winner_prob'] > 0.5)"
   ]
  },
  {
   "cell_type": "code",
   "execution_count": 258,
   "metadata": {},
   "outputs": [],
   "source": [
    "log_loss_contrib_elo = -np.log(elo_df['winner_prob']) / elo_df.shape[0]\n",
    "log_loss_contrib_gp = -np.log(df['winner_prob']) / df.shape[0]"
   ]
  },
  {
   "cell_type": "code",
   "execution_count": 259,
   "metadata": {},
   "outputs": [],
   "source": [
    "df['log_loss_diff'] = log_loss_contrib_gp.values - log_loss_contrib_elo.values"
   ]
  },
  {
   "cell_type": "code",
   "execution_count": 260,
   "metadata": {},
   "outputs": [],
   "source": [
    "df['elo_win_prob'] = elo_df['winner_prob'].values"
   ]
  },
  {
   "cell_type": "code",
   "execution_count": 261,
   "metadata": {},
   "outputs": [
    {
     "data": {
      "text/html": [
       "<div>\n",
       "<style scoped>\n",
       "    .dataframe tbody tr th:only-of-type {\n",
       "        vertical-align: middle;\n",
       "    }\n",
       "\n",
       "    .dataframe tbody tr th {\n",
       "        vertical-align: top;\n",
       "    }\n",
       "\n",
       "    .dataframe thead th {\n",
       "        text-align: right;\n",
       "    }\n",
       "</style>\n",
       "<table border=\"1\" class=\"dataframe\">\n",
       "  <thead>\n",
       "    <tr style=\"text-align: right;\">\n",
       "      <th></th>\n",
       "      <th>winner</th>\n",
       "      <th>loser</th>\n",
       "      <th>winner_prob</th>\n",
       "      <th>elo_win_prob</th>\n",
       "      <th>log_loss_diff</th>\n",
       "    </tr>\n",
       "  </thead>\n",
       "  <tbody>\n",
       "    <tr>\n",
       "      <th>2842</th>\n",
       "      <td>Stefanos Tsitsipas</td>\n",
       "      <td>Roger Federer</td>\n",
       "      <td>0.225496</td>\n",
       "      <td>0.166608</td>\n",
       "      <td>-0.002383</td>\n",
       "    </tr>\n",
       "    <tr>\n",
       "      <th>2786</th>\n",
       "      <td>Alex Bolt</td>\n",
       "      <td>Jack Sock</td>\n",
       "      <td>0.227059</td>\n",
       "      <td>0.183863</td>\n",
       "      <td>-0.001662</td>\n",
       "    </tr>\n",
       "    <tr>\n",
       "      <th>2813</th>\n",
       "      <td>Alex Bolt</td>\n",
       "      <td>Gilles Simon</td>\n",
       "      <td>0.132737</td>\n",
       "      <td>0.110325</td>\n",
       "      <td>-0.001456</td>\n",
       "    </tr>\n",
       "    <tr>\n",
       "      <th>2740</th>\n",
       "      <td>Roberto Bautista Agut</td>\n",
       "      <td>Andy Murray</td>\n",
       "      <td>0.549483</td>\n",
       "      <td>0.463031</td>\n",
       "      <td>-0.001348</td>\n",
       "    </tr>\n",
       "    <tr>\n",
       "      <th>2747</th>\n",
       "      <td>Jordan Thompson</td>\n",
       "      <td>Feliciano Lopez</td>\n",
       "      <td>0.273741</td>\n",
       "      <td>0.240504</td>\n",
       "      <td>-0.001019</td>\n",
       "    </tr>\n",
       "  </tbody>\n",
       "</table>\n",
       "</div>"
      ],
      "text/plain": [
       "                     winner            loser  winner_prob  elo_win_prob  \\\n",
       "2842     Stefanos Tsitsipas    Roger Federer     0.225496      0.166608   \n",
       "2786              Alex Bolt        Jack Sock     0.227059      0.183863   \n",
       "2813              Alex Bolt     Gilles Simon     0.132737      0.110325   \n",
       "2740  Roberto Bautista Agut      Andy Murray     0.549483      0.463031   \n",
       "2747        Jordan Thompson  Feliciano Lopez     0.273741      0.240504   \n",
       "\n",
       "      log_loss_diff  \n",
       "2842      -0.002383  \n",
       "2786      -0.001662  \n",
       "2813      -0.001456  \n",
       "2740      -0.001348  \n",
       "2747      -0.001019  "
      ]
     },
     "execution_count": 261,
     "metadata": {},
     "output_type": "execute_result"
    }
   ],
   "source": [
    "df.sort_values('log_loss_diff')[['winner', 'loser', 'winner_prob', 'elo_win_prob', 'log_loss_diff']].head()"
   ]
  },
  {
   "cell_type": "code",
   "execution_count": 262,
   "metadata": {},
   "outputs": [
    {
     "data": {
      "text/plain": [
       "<matplotlib.axes._subplots.AxesSubplot at 0x1100d7ac8>"
      ]
     },
     "execution_count": 262,
     "metadata": {},
     "output_type": "execute_result"
    },
    {
     "data": {
      "image/png": "[encoded data removed]",
      "text/plain": [
       "<Figure size 432x288 with 1 Axes>"
      ]
     },
     "metadata": {
      "image/png": {
       "height": 261,
       "width": 373
      },
      "needs_background": "light"
     },
     "output_type": "display_data"
    }
   ],
   "source": [
    "df_2[df_2['winner'] == 'Rafael Nadal'].plot(x='date', y='latent_mean_winner')"
   ]
  },
  {
   "cell_type": "code",
   "execution_count": null,
   "metadata": {},
   "outputs": [],
   "source": []
  }
 ],
 "metadata": {
  "kernelspec": {
   "display_name": "Python 3",
   "language": "python",
   "name": "python3"
  },
  "language_info": {
   "codemirror_mode": {
    "name": "ipython",
    "version": 3
   },
   "file_extension": ".py",
   "mimetype": "text/x-python",
   "name": "python",
   "nbconvert_exporter": "python",
   "pygments_lexer": "ipython3",
   "version": "3.6.7"
  }
 },
 "nbformat": 4,
 "nbformat_minor": 2
}
