{
 "cells": [
  {
   "cell_type": "code",
   "execution_count": 108,
   "metadata": {},
   "outputs": [],
   "source": [
    "import pandas as pd\n",
    "from datetime import datetime"
   ]
  },
  {
   "cell_type": "code",
   "execution_count": 203,
   "metadata": {},
   "outputs": [
    {
     "data": {
      "text/plain": [
       "(2548, 15)"
      ]
     },
     "execution_count": 203,
     "metadata": {},
     "output_type": "execute_result"
    }
   ],
   "source": [
    "df = pd.read_csv('../../tennis-prediction/gp_laplace_2016_start_matern12plus32.csv')\n",
    "df['date'] = pd.to_datetime(df['date'])\n",
    "df = df[df['date'] < datetime(2018, 12, 31)]\n",
    "\n",
    "df.shape"
   ]
  },
  {
   "cell_type": "code",
   "execution_count": 204,
   "metadata": {},
   "outputs": [
    {
     "data": {
      "text/plain": [
       "0.6385400313971743"
      ]
     },
     "execution_count": 204,
     "metadata": {},
     "output_type": "execute_result"
    }
   ],
   "source": [
    "import numpy as np\n",
    "\n",
    "np.mean(df['winner_prob'] > 0.5)"
   ]
  },
  {
   "cell_type": "code",
   "execution_count": 205,
   "metadata": {},
   "outputs": [],
   "source": [
    "from tpr.evaluation.evaluator import Evaluator"
   ]
  },
  {
   "cell_type": "code",
   "execution_count": 206,
   "metadata": {},
   "outputs": [
    {
     "data": {
      "text/plain": [
       "0.6300324142642314"
      ]
     },
     "execution_count": 206,
     "metadata": {},
     "output_type": "execute_result"
    }
   ],
   "source": [
    "Evaluator.logloss(np.ones(df.shape[0]), df['winner_prob'].values)"
   ]
  },
  {
   "cell_type": "code",
   "execution_count": 187,
   "metadata": {},
   "outputs": [],
   "source": [
    "by_tournament = df.groupby('tournament_name').apply(lambda x: Evaluator.logloss(np.ones(x.shape[0]), x['winner_prob'])).sort_values()"
   ]
  },
  {
   "cell_type": "code",
   "execution_count": 188,
   "metadata": {},
   "outputs": [],
   "source": [
    "df_2 = pd.read_csv('../../tennis-prediction/gp_laplace_2017_start.csv')\n",
    "df_2['date'] = pd.to_datetime(df_2['date'])\n",
    "df_2 = df_2[df_2['date'].dt.year == 2018]"
   ]
  },
  {
   "cell_type": "code",
   "execution_count": 189,
   "metadata": {},
   "outputs": [],
   "source": [
    "by_tournament_2 = df_2.groupby('tournament_name').apply(lambda x: Evaluator.logloss(np.ones(x.shape[0]), x['winner_prob'])).sort_values()"
   ]
  },
  {
   "cell_type": "code",
   "execution_count": 190,
   "metadata": {},
   "outputs": [
    {
     "data": {
      "text/plain": [
       "<matplotlib.collections.PathCollection at 0x1a118c21d0>"
      ]
     },
     "execution_count": 190,
     "metadata": {},
     "output_type": "execute_result"
    },
    {
     "data": {
      "image/png": "[encoded data removed]",
      "text/plain": [
       "<Figure size 432x288 with 1 Axes>"
      ]
     },
     "metadata": {
      "image/png": {
       "height": 250,
       "width": 374
      },
      "needs_background": "light"
     },
     "output_type": "display_data"
    }
   ],
   "source": [
    "import matplotlib.pyplot as plt\n",
    "%matplotlib inline\n",
    "\n",
    "plt.scatter(by_tournament.values, by_tournament_2.loc[by_tournament.index].values)"
   ]
  },
  {
   "cell_type": "code",
   "execution_count": 191,
   "metadata": {},
   "outputs": [
    {
     "data": {
      "text/plain": [
       "tournament_name\n",
       "Maharashtra Open - Pune                        -0.060533\n",
       "Hall of Fame Open - Newport                    -0.045771\n",
       "Mubadala World Tennis Championship             -0.030840\n",
       "Barcelona Open BancSabadell - Barcelona        -0.023639\n",
       "Chengdu Open - Chengdu                         -0.021065\n",
       "Swiss Indoors Basel - Basel                    -0.019289\n",
       "TEB BNP Paribas Istanbul Open - Istanbul       -0.018304\n",
       "New York Open - New York                       -0.017170\n",
       "Argentina Open - Buenos Aires                  -0.016665\n",
       "Miami Open - Miami                             -0.016105\n",
       "Gazprom Hungarian Open - Budapest              -0.015793\n",
       "Open Parc - Lyon                               -0.015245\n",
       "Erste Bank Open - Vienna                       -0.014792\n",
       "China Open - Beijing                           -0.013896\n",
       "Dubai Duty Free Tennis Championships - Dubai   -0.013235\n",
       "Rakuten Japan Open - Tokyo                     -0.012436\n",
       "Shanghai Rolex Masters - Shanghai              -0.012356\n",
       "Rogers Cup - Toronto                           -0.012192\n",
       "Abierto Mexicano Telcel - Acapulco             -0.011998\n",
       "Mutua Madrid Open - Madrid                     -0.011247\n",
       "Open 13 Provence - Marseille                   -0.010778\n",
       "Citi Open - Washington                         -0.008968\n",
       "Delray Beach Open - Delray Beach               -0.008931\n",
       "ASB Classic - Auckland                         -0.007984\n",
       "Moselle Open - Metz                            -0.007572\n",
       "Qatar ExxonMobil Open - Doha                   -0.006921\n",
       "Ricoh Open - 's-Hertogenbosch                  -0.006402\n",
       "Garanti Koza Sofia Open - Sofia                -0.005896\n",
       "Nitto ATP Finals - London                      -0.005770\n",
       "US Men's Clay Court Championship - Houston     -0.005712\n",
       "                                                  ...   \n",
       "Generali Open - Kitzbuhel                      -0.001057\n",
       "Australian Open - Melbourne                    -0.001029\n",
       "German Tennis Championships - Hamburg          -0.000592\n",
       "Antalya Cup - Antalya                          -0.000468\n",
       "Ecuador Open - Quito                           -0.000156\n",
       "U.S. Open - New York                            0.000035\n",
       "Monte-Carlo Rolex Masters - Monte-Carlo         0.001435\n",
       "Brisbane International - Brisbane               0.001547\n",
       "Internazionali BNL d'Italia - Rome              0.002461\n",
       "Shenzhen Open - Shenzhen                        0.002897\n",
       "Millennium Estoril Open - Estoril               0.003354\n",
       "Western & Southern Open - Cincinnati            0.003383\n",
       "SkiStar Swedish Open - Bastad                   0.004734\n",
       "AEGON International - Eastbourne                0.005538\n",
       "Swiss Open - Gstaad                             0.005569\n",
       "Sydney International - Sydney                   0.005753\n",
       "BNP Paribas Open - Indian Wells                 0.005999\n",
       "BNP Paribas Masters - Paris                     0.006153\n",
       "Mercedes Cup - Stuttgart                        0.007676\n",
       "European Open - Antwerp                         0.008135\n",
       "Rio Open - Rio de Janeiro                       0.009399\n",
       "BMW Open - Munich                               0.010612\n",
       "BB&T Atlanta Open - Atlanta                     0.011476\n",
       "AEGON Championships - London                    0.011885\n",
       "Abierto Mexicano - Los Cabos                    0.012112\n",
       "Gerry Weber Open - Halle                        0.013804\n",
       "Grand Prix Hassan II - Marrakech                0.014028\n",
       "Hopman Cup - Perth                              0.015199\n",
       "Kremlin Cup - Moscow                            0.017287\n",
       "Brasil Open - Sao Paulo                         0.034092\n",
       "Length: 69, dtype: float64"
      ]
     },
     "execution_count": 191,
     "metadata": {},
     "output_type": "execute_result"
    }
   ],
   "source": [
    "(by_tournament - by_tournament_2).sort_values()"
   ]
  },
  {
   "cell_type": "code",
   "execution_count": 192,
   "metadata": {},
   "outputs": [],
   "source": [
    "# How did it go on the AO?\n",
    "df = pd.read_csv('../../tennis-prediction/gp_laplace_2016_start_matern12plus32.csv')\n",
    "df['date'] = pd.to_datetime(df['date'])\n",
    "\n",
    "df = df[df['date'].dt.year == 2019]\n",
    "df = df[df['tournament_name'].str.contains('Australian Open')]"
   ]
  },
  {
   "cell_type": "code",
   "execution_count": 193,
   "metadata": {},
   "outputs": [
    {
     "data": {
      "text/plain": [
       "(120, 15)"
      ]
     },
     "execution_count": 193,
     "metadata": {},
     "output_type": "execute_result"
    }
   ],
   "source": [
    "df.shape"
   ]
  },
  {
   "cell_type": "code",
   "execution_count": 194,
   "metadata": {},
   "outputs": [
    {
     "data": {
      "text/plain": [
       "0.5262352243982623"
      ]
     },
     "execution_count": 194,
     "metadata": {},
     "output_type": "execute_result"
    }
   ],
   "source": [
    "Evaluator.logloss(np.ones(df.shape[0]), df['winner_prob'])"
   ]
  },
  {
   "cell_type": "code",
   "execution_count": null,
   "metadata": {},
   "outputs": [],
   "source": []
  }
 ],
 "metadata": {
  "kernelspec": {
   "display_name": "Python 3",
   "language": "python",
   "name": "python3"
  },
  "language_info": {
   "codemirror_mode": {
    "name": "ipython",
    "version": 3
   },
   "file_extension": ".py",
   "mimetype": "text/x-python",
   "name": "python",
   "nbconvert_exporter": "python",
   "pygments_lexer": "ipython3",
   "version": "3.6.7"
  }
 },
 "nbformat": 4,
 "nbformat_minor": 2
}
